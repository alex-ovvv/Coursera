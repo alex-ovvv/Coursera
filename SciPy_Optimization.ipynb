{
 "cells": [
  {
   "cell_type": "markdown",
   "metadata": {},
   "source": [
    "## Оптимизация в Scipy"
   ]
  },
  {
   "cell_type": "code",
   "execution_count": 1,
   "metadata": {},
   "outputs": [],
   "source": [
    "from scipy import optimize"
   ]
  },
  {
   "cell_type": "code",
   "execution_count": 2,
   "metadata": {},
   "outputs": [
    {
     "name": "stdout",
     "output_type": "stream",
     "text": [
      "0.0\n"
     ]
    }
   ],
   "source": [
    "#задачи по оптимизации очень часто тестрируют на функции Розенброка, которая и представлена ниже\n",
    "def f(x):\n",
    "    return 0.5*(1-x[0])**2 + (x[1]-x[0]**2)**2\n",
    "\n",
    "print (f([1,1]))"
   ]
  },
  {
   "cell_type": "code",
   "execution_count": 5,
   "metadata": {},
   "outputs": [
    {
     "name": "stdout",
     "output_type": "stream",
     "text": [
      "[0.99999324 1.00001283]\n"
     ]
    }
   ],
   "source": [
    "#применяем метод перебора, чтобы найти минимум функции\n",
    "result = optimize.brute(f, ((-5,5),(-5,5)))\n",
    "print (result)"
   ]
  },
  {
   "cell_type": "code",
   "execution_count": 10,
   "metadata": {},
   "outputs": [
    {
     "name": "stdout",
     "output_type": "stream",
     "text": [
      "     fun: 7.395570986446986e-32\n",
      " message: 'Optimization terminated successfully.'\n",
      "    nfev: 3693\n",
      "     nit: 122\n",
      " success: True\n",
      "       x: array([1., 1.])\n"
     ]
    }
   ],
   "source": [
    "#для сложных функций, где не подойдет перебор, можно использовать метод, особенно если там есть разрывы или они не гладки, то хорошо подойдет метод ниже\n",
    "print (optimize.differential_evolution(f, ((-5,5),(-5,5))))\n",
    "#nit - кол-во итераций, которые потребовались, чтобы найти точку минимума"
   ]
  },
  {
   "cell_type": "code",
   "execution_count": 12,
   "metadata": {},
   "outputs": [],
   "source": [
    "import numpy as np\n",
    "#ищем градиент функции Разенброка\n",
    "def g(x):\n",
    "    return np.array((-2*0.5*(1-x[0])-4*x[0]*(x[1]-x[0]**2),2*(x[1]-x[0]**2)))"
   ]
  },
  {
   "cell_type": "code",
   "execution_count": 13,
   "metadata": {},
   "outputs": [
    {
     "name": "stdout",
     "output_type": "stream",
     "text": [
      "2.384185791015625e-07\n"
     ]
    }
   ],
   "source": [
    "#след функция позволяет проверить, верно ли мы нашли градиент функции\n",
    "print (optimize.check_grad(f,g,(2,2)))"
   ]
  },
  {
   "cell_type": "code",
   "execution_count": 15,
   "metadata": {},
   "outputs": [
    {
     "name": "stdout",
     "output_type": "stream",
     "text": [
      "Optimization terminated successfully.\n",
      "         Current function value: 0.000000\n",
      "         Iterations: 8\n",
      "         Function evaluations: 9\n",
      "         Gradient evaluations: 9\n",
      "[1.00000582 1.00001285]\n"
     ]
    }
   ],
   "source": [
    "#один из популярных методов градиентной оптимизации. Так что если функция достаточно хорошая, то стоит использовать градиентный метод как значительно более быстрый\n",
    "print (optimize.fmin_bfgs(f, (2,2), fprime=g))"
   ]
  },
  {
   "cell_type": "code",
   "execution_count": 17,
   "metadata": {},
   "outputs": [
    {
     "name": "stdout",
     "output_type": "stream",
     "text": [
      "      fun: 1.78380307372662e-11\n",
      " hess_inv: array([[0.95489061, 1.90006631],\n",
      "       [1.90006631, 4.27872379]])\n",
      "      jac: array([9.88094725e-07, 2.41748897e-06])\n",
      "  message: 'Optimization terminated successfully.'\n",
      "     nfev: 36\n",
      "      nit: 8\n",
      "     njev: 9\n",
      "   status: 0\n",
      "  success: True\n",
      "        x: array([1.00000573, 1.00001265])\n"
     ]
    }
   ],
   "source": [
    "#можно использовать эту функцию, она простая и сама воспользуется градиентом, если там будет быстрее. По умолчанию для хорошей функции она использует bfgs\n",
    "print (optimize.minimize(f, (2,2)))"
   ]
  },
  {
   "cell_type": "code",
   "execution_count": 21,
   "metadata": {},
   "outputs": [
    {
     "name": "stdout",
     "output_type": "stream",
     "text": [
      "      fun: 1.8414093407262628e-11\n",
      " hess_inv: array([[0.95489113, 1.90006768],\n",
      "       [1.90006768, 4.27872719]])\n",
      "      jac: array([9.88085521e-07, 2.41739812e-06])\n",
      "  message: 'Optimization terminated successfully.'\n",
      "     nfev: 9\n",
      "      nit: 8\n",
      "     njev: 9\n",
      "   status: 0\n",
      "  success: True\n",
      "        x: array([1.00000582, 1.00001285])\n"
     ]
    }
   ],
   "source": [
    "#можно задать метод и ручками, как и уточнение на использование градиента\n",
    "print (optimize.minimize(f, [2,2], method = \"BFGS\", jac=g))"
   ]
  },
  {
   "cell_type": "code",
   "execution_count": 22,
   "metadata": {},
   "outputs": [
    {
     "name": "stdout",
     "output_type": "stream",
     "text": [
      "      fun: 1.78380307372662e-11\n",
      " hess_inv: array([[0.95489061, 1.90006631],\n",
      "       [1.90006631, 4.27872379]])\n",
      "      jac: array([9.88094725e-07, 2.41748897e-06])\n",
      "  message: 'Optimization terminated successfully.'\n",
      "     nfev: 36\n",
      "      nit: 8\n",
      "     njev: 9\n",
      "   status: 0\n",
      "  success: True\n",
      "        x: array([1.00000573, 1.00001265])\n"
     ]
    }
   ],
   "source": [
    "#можно не передавать градиент\n",
    "print (optimize.minimize(f, [2,2], method = \"BFGS\"))"
   ]
  },
  {
   "cell_type": "code",
   "execution_count": 24,
   "metadata": {},
   "outputs": [
    {
     "name": "stdout",
     "output_type": "stream",
     "text": [
      " final_simplex: (array([[0.99998568, 0.99996682],\n",
      "       [1.00002149, 1.00004744],\n",
      "       [1.0000088 , 1.00003552]]), array([1.23119954e-10, 2.50768082e-10, 3.59639951e-10]))\n",
      "           fun: 1.2311995365407462e-10\n",
      "       message: 'Optimization terminated successfully.'\n",
      "          nfev: 91\n",
      "           nit: 46\n",
      "        status: 0\n",
      "       success: True\n",
      "             x: array([0.99998568, 0.99996682])\n"
     ]
    }
   ],
   "source": [
    "#еще один метод\n",
    "print (optimize.minimize(f, [2,2], method = \"Nelder-Mead\"))"
   ]
  }
 ],
 "metadata": {
  "kernelspec": {
   "display_name": "Python 3",
   "language": "python",
   "name": "python3"
  },
  "language_info": {
   "codemirror_mode": {
    "name": "ipython",
    "version": 3
   },
   "file_extension": ".py",
   "mimetype": "text/x-python",
   "name": "python",
   "nbconvert_exporter": "python",
   "pygments_lexer": "ipython3",
   "version": "3.6.5"
  }
 },
 "nbformat": 4,
 "nbformat_minor": 2
}
